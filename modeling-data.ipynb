{
 "cells": [
  {
   "cell_type": "markdown",
   "metadata": {},
   "source": [
    "# Import Library "
   ]
  },
  {
   "cell_type": "code",
   "execution_count": 2,
   "metadata": {
    "ExecuteTime": {
     "end_time": "2021-09-09T09:20:04.266480Z",
     "start_time": "2021-09-09T09:20:03.865191Z"
    }
   },
   "outputs": [],
   "source": [
    "import  cassandra\n",
    "import pandas as pd\n",
    "import glob, csv, re, json, os\n",
    "import numpy as np "
   ]
  },
  {
   "cell_type": "markdown",
   "metadata": {},
   "source": [
    "# Creating List Path "
   ]
  },
  {
   "cell_type": "code",
   "execution_count": 2,
   "metadata": {
    "ExecuteTime": {
     "end_time": "2021-08-05T04:26:11.989876Z",
     "start_time": "2021-08-05T04:26:11.973980Z"
    }
   },
   "outputs": [
    {
     "name": "stdout",
     "output_type": "stream",
     "text": [
      "current working dir /home/hira/Data-Modeling-with-Cassandra\n"
     ]
    }
   ],
   "source": [
    "# Check current dir \n",
    "print(f\"current working dir {os.getcwd()}\")"
   ]
  },
  {
   "cell_type": "code",
   "execution_count": 7,
   "metadata": {
    "ExecuteTime": {
     "end_time": "2021-08-05T04:26:14.650205Z",
     "start_time": "2021-08-05T04:26:14.633845Z"
    }
   },
   "outputs": [
    {
     "data": {
      "text/plain": [
       "'/home/hira/Data-Modeling-with-Cassandra/event_data'"
      ]
     },
     "execution_count": 7,
     "metadata": {},
     "output_type": "execute_result"
    }
   ],
   "source": [
    "file_path = os.getcwd() + '/event_data'\n",
    "file_path"
   ]
  },
  {
   "cell_type": "code",
   "execution_count": 10,
   "metadata": {
    "ExecuteTime": {
     "end_time": "2021-08-05T04:26:16.347271Z",
     "start_time": "2021-08-05T04:26:16.343434Z"
    }
   },
   "outputs": [
    {
     "data": {
      "text/plain": [
       "['/home/hira/Data-Modeling-with-Cassandra/event_data/2018-11-16-events.csv',\n",
       " '/home/hira/Data-Modeling-with-Cassandra/event_data/2018-11-22-events.csv',\n",
       " '/home/hira/Data-Modeling-with-Cassandra/event_data/2018-11-30-events.csv',\n",
       " '/home/hira/Data-Modeling-with-Cassandra/event_data/2018-11-27-events.csv',\n",
       " '/home/hira/Data-Modeling-with-Cassandra/event_data/2018-11-06-events.csv',\n",
       " '/home/hira/Data-Modeling-with-Cassandra/event_data/2018-11-12-events.csv',\n",
       " '/home/hira/Data-Modeling-with-Cassandra/event_data/2018-11-28-events.csv',\n",
       " '/home/hira/Data-Modeling-with-Cassandra/event_data/2018-11-13-events.csv',\n",
       " '/home/hira/Data-Modeling-with-Cassandra/event_data/2018-11-10-events.csv',\n",
       " '/home/hira/Data-Modeling-with-Cassandra/event_data/2018-11-11-events.csv',\n",
       " '/home/hira/Data-Modeling-with-Cassandra/event_data/2018-11-24-events.csv',\n",
       " '/home/hira/Data-Modeling-with-Cassandra/event_data/2018-11-21-events.csv',\n",
       " '/home/hira/Data-Modeling-with-Cassandra/event_data/2018-11-05-events.csv',\n",
       " '/home/hira/Data-Modeling-with-Cassandra/event_data/2018-11-23-events.csv',\n",
       " '/home/hira/Data-Modeling-with-Cassandra/event_data/2018-11-02-events.csv',\n",
       " '/home/hira/Data-Modeling-with-Cassandra/event_data/2018-11-25-events.csv',\n",
       " '/home/hira/Data-Modeling-with-Cassandra/event_data/2018-11-19-events.csv',\n",
       " '/home/hira/Data-Modeling-with-Cassandra/event_data/2018-11-26-events.csv',\n",
       " '/home/hira/Data-Modeling-with-Cassandra/event_data/2018-11-07-events.csv',\n",
       " '/home/hira/Data-Modeling-with-Cassandra/event_data/2018-11-18-events.csv',\n",
       " '/home/hira/Data-Modeling-with-Cassandra/event_data/2018-11-14-events.csv',\n",
       " '/home/hira/Data-Modeling-with-Cassandra/event_data/2018-11-03-events.csv',\n",
       " '/home/hira/Data-Modeling-with-Cassandra/event_data/2018-11-20-events.csv',\n",
       " '/home/hira/Data-Modeling-with-Cassandra/event_data/2018-11-15-events.csv',\n",
       " '/home/hira/Data-Modeling-with-Cassandra/event_data/2018-11-04-events.csv',\n",
       " '/home/hira/Data-Modeling-with-Cassandra/event_data/2018-11-09-events.csv',\n",
       " '/home/hira/Data-Modeling-with-Cassandra/event_data/2018-11-17-events.csv',\n",
       " '/home/hira/Data-Modeling-with-Cassandra/event_data/2018-11-29-events.csv',\n",
       " '/home/hira/Data-Modeling-with-Cassandra/event_data/2018-11-08-events.csv',\n",
       " '/home/hira/Data-Modeling-with-Cassandra/event_data/2018-11-01-events.csv']"
      ]
     },
     "execution_count": 10,
     "metadata": {},
     "output_type": "execute_result"
    }
   ],
   "source": [
    "for root, dir, files in  os.walk(file_path):\n",
    "    filepath_list = glob.glob(os.path.join(root,\"*-events.csv\"))\n",
    "\n",
    "filepath_list"
   ]
  },
  {
   "cell_type": "code",
   "execution_count": 9,
   "metadata": {
    "ExecuteTime": {
     "end_time": "2021-08-05T04:26:17.941831Z",
     "start_time": "2021-08-05T04:26:17.900098Z"
    }
   },
   "outputs": [
    {
     "name": "stdout",
     "output_type": "stream",
     "text": [
      "Total rows: 8056\n",
      "Sample data : \n",
      " [['Mudhoney', 'Logged In', 'Aleena', 'F', '10', 'Kirby', '231.57506', 'paid', 'Waterloo-Cedar Falls, IA', 'PUT', 'NextSong', '1.54102E+12', '637', 'Get Into Yours', '200', '1.54233E+12', '44'], ['Carpenters', 'Logged In', 'Aleena', 'F', '11', 'Kirby', '238.39302', 'paid', 'Waterloo-Cedar Falls, IA', 'PUT', 'NextSong', '1.54102E+12', '637', 'Yesterday Once More', '200', '1.54233E+12', '44'], ['', 'Logged In', 'Aleena', 'F', '12', 'Kirby', '', 'paid', 'Waterloo-Cedar Falls, IA', 'GET', 'Home', '1.54102E+12', '637', '', '200', '1.54233E+12', '44'], ['Kings Of Leon', 'Logged In', 'Aleena', 'F', '13', 'Kirby', '185.28608', 'paid', 'Waterloo-Cedar Falls, IA', 'PUT', 'NextSong', '1.54102E+12', '637', 'Taper Jean Girl', '200', '1.54233E+12', '44'], ['The Bloody Beetroots', 'Logged In', 'Aleena', 'F', '14', 'Kirby', '201.97832', 'paid', 'Waterloo-Cedar Falls, IA', 'PUT', 'NextSong', '1.54102E+12', '637', 'Warp 1.9 (feat. Steve Aoki)', '200', '1.54233E+12', '44']]\n"
     ]
    }
   ],
   "source": [
    "# initiating empty list  rows that will be generated  data \n",
    "\n",
    "full_data_rows = []\n",
    "\n",
    "# for every  filepath in the file of list\n",
    "for file in filepath_list:\n",
    "    # reading csv \n",
    "    with open(file, 'r', encoding= 'utf8', newline ='')  as  csvfile:\n",
    "         csvreader = csv.reader(csvfile)\n",
    "         next(csvreader)\n",
    "         \n",
    "         # extracting each data row one by one and append it\n",
    "         for line in csvreader:\n",
    "             full_data_rows.append(line)\n",
    "print(f\"Total rows: {len(full_data_rows)}\")\n",
    "print(f\"Sample data : \\n {full_data_rows[:5]}\")\n"
   ]
  },
  {
   "cell_type": "code",
   "execution_count": 6,
   "metadata": {
    "ExecuteTime": {
     "end_time": "2021-08-05T04:26:22.424759Z",
     "start_time": "2021-08-05T04:26:22.414225Z"
    }
   },
   "outputs": [],
   "source": [
    "    \"\"\"\n",
    "    creating a smaller event data csv file  called event_datafile_full csv that will be\n",
    "    inser into apache cassandra   \n",
    "    \"\"\"\n",
    "    \n",
    "csv.register_dialect('myDialect', quoting = csv.QUOTE_ALL,\\\n",
    "                     skipinitialspace = True)"
   ]
  },
  {
   "cell_type": "code",
   "execution_count": 7,
   "metadata": {
    "ExecuteTime": {
     "end_time": "2021-08-05T04:29:49.545856Z",
     "start_time": "2021-08-05T04:29:49.537746Z"
    }
   },
   "outputs": [],
   "source": [
    "column = ['artist','firstName','gender','itemInSession','lastName','length',\\\n",
    "                'level','location','sessionId','song','userId']"
   ]
  },
  {
   "cell_type": "code",
   "execution_count": 9,
   "metadata": {
    "ExecuteTime": {
     "end_time": "2021-08-05T04:34:53.233260Z",
     "start_time": "2021-08-05T04:34:53.187101Z"
    }
   },
   "outputs": [],
   "source": [
    " with open('event_datefile_new.csv', 'w', encoding='utf8'\\\n",
    "     , newline='') as f :\n",
    "        writer = csv.writer(f, dialect= 'myDialect')\n",
    "        writer.writerow(column)\n",
    "        for row in  full_data_rows:\n",
    "            if row[0] == '':\n",
    "                continue\n",
    "            writer.writerow((row[0], row[2], row[3],row[4],row[5],row[6],row[7],row[8],row[12],row[13],row[16]))"
   ]
  },
  {
   "cell_type": "code",
   "execution_count": 12,
   "metadata": {
    "ExecuteTime": {
     "end_time": "2021-08-05T04:36:39.254286Z",
     "start_time": "2021-08-05T04:36:39.225273Z"
    }
   },
   "outputs": [
    {
     "name": "stdout",
     "output_type": "stream",
     "text": [
      "6821\n"
     ]
    }
   ],
   "source": [
    "with open('event_datefile_new.csv', 'r', encoding='utf8')  as f :\n",
    "    print(sum( 1 for line in f ))"
   ]
  },
  {
   "cell_type": "markdown",
   "metadata": {},
   "source": [
    "# Event *datefile_new.csv*  are ready to use \n",
    "Meta data :\n",
    "\n",
    "| Table Name      | Description |\n",
    "| ----------- | ----------- |\n",
    "|artist  \t | \t  Name artist |\n",
    "|firstName  \t | first name user \t |\n",
    "|gender  \t | \tuser gender |\n",
    "|itemInSession  \t |  session user use apps\t |\n",
    "|lastName  \t | \tlast name user |\n",
    "|length  \t | length user stream music\t |\n",
    "|level  \t |  paid or free\t |\n",
    "|location  \t |  location user\t |\n",
    "|sessionId  \t | sesion id user \t |\n",
    "|song  \t | \t song play |\n",
    "|userId  \t |  user id\t |"
   ]
  },
  {
   "cell_type": "markdown",
   "metadata": {
    "ExecuteTime": {
     "end_time": "2021-08-05T04:44:34.870486Z",
     "start_time": "2021-08-05T04:44:34.820016Z"
    }
   },
   "source": [
    "# Creating Cluster "
   ]
  },
  {
   "cell_type": "code",
   "execution_count": 3,
   "metadata": {
    "ExecuteTime": {
     "end_time": "2021-09-09T09:20:15.005017Z",
     "start_time": "2021-09-09T09:20:14.998910Z"
    }
   },
   "outputs": [
    {
     "name": "stdout",
     "output_type": "stream",
     "text": [
      "Connected Estabilished !!\n"
     ]
    }
   ],
   "source": [
    "\"\"\"\n",
    "This should connected to  a cassandra  instance your local machine\n",
    "\"\"\"\n",
    "from cassandra.cluster import Cluster\n",
    "try:\n",
    "    cluster = Cluster(['172.17.0.2'])\n",
    "    session = cluster.connect()\n",
    "    print(\"Connected Estabilished !!\")\n",
    "except Exception  as e :\n",
    "    print(f\"Connected filed ! error : {e}\")"
   ]
  },
  {
   "cell_type": "markdown",
   "metadata": {},
   "source": [
    "# Creating Keyspace "
   ]
  },
  {
   "cell_type": "code",
   "execution_count": 34,
   "metadata": {
    "ExecuteTime": {
     "end_time": "2021-08-05T06:27:32.602032Z",
     "start_time": "2021-08-05T06:27:31.816272Z"
    },
    "scrolled": true
   },
   "outputs": [],
   "source": [
    "keyspace_quer =\"\"\"\n",
    "                    CREATE KEYSPACE IF NOT EXISTS sparkify \n",
    "                    WITH REPLICATION = \n",
    "                    {'class' :'SimpleStrategy' ,'replication_factor': 1}\n",
    "                \"\"\"\n",
    "\n",
    "try: \n",
    "    session.execute(keyspace_quer)\n",
    "except Exception as e:\n",
    "    print(f\"Failed create keyspace : {e}\")\n"
   ]
  },
  {
   "cell_type": "code",
   "execution_count": 35,
   "metadata": {
    "ExecuteTime": {
     "end_time": "2021-08-05T06:27:37.820032Z",
     "start_time": "2021-08-05T06:27:37.795707Z"
    }
   },
   "outputs": [],
   "source": [
    "\n",
    "# creating keyspace\n",
    "session.set_keyspace('sparkify')"
   ]
  },
  {
   "cell_type": "markdown",
   "metadata": {},
   "source": [
    "   # Create Table session_item \n",
    "* We need a way to run  query on sessionId and iteminSession. So our primary key  must have these columns. We can partitiom the data on sessionId\n",
    "\n",
    "* Our Select query : SELECT artist, song, length FROM  session_item where sessionId = 338 and itemInSession = 4\n",
    "*  Our Primary key will be (sessionId, itemInSession), where sessionId is the partition key and  itemInSession is the clustering column.\n",
    "\n"
   ]
  },
  {
   "cell_type": "code",
   "execution_count": 37,
   "metadata": {
    "ExecuteTime": {
     "end_time": "2021-08-05T06:35:37.832763Z",
     "start_time": "2021-08-05T06:35:37.817797Z"
    }
   },
   "outputs": [
    {
     "name": "stdout",
     "output_type": "stream",
     "text": [
      "Table created\n"
     ]
    }
   ],
   "source": [
    "# Create table session_item   \n",
    "create_query1 = \"\"\"\n",
    "                CREATE TABLE IF NOT EXISTS session_item (\n",
    "                artist text,\n",
    "                song text,\n",
    "                length float,\n",
    "                sessionid int,\n",
    "                iteminsession int,\n",
    "                PRIMARY KEY(sessionid,iteminsession)\n",
    "                )\n",
    "                \"\"\"\n",
    "\n",
    "try:\n",
    "    session.execute(create_query1)\n",
    "    print(\"Table created\")\n",
    "except Exception as e :\n",
    "    print(f\"Failde Create table {e}\")"
   ]
  },
  {
   "cell_type": "code",
   "execution_count": 42,
   "metadata": {
    "ExecuteTime": {
     "end_time": "2021-08-05T06:45:53.300972Z",
     "start_time": "2021-08-05T06:45:40.362321Z"
    }
   },
   "outputs": [],
   "source": [
    "# using the event file \n",
    "file = \"event_datefile_new.csv\"\n",
    "\n",
    "# reading csv andn inserting rows  into cassandra table\n",
    "with open(file, encoding='utf8') as f :\n",
    "    csvreader = csv.reader(f)\n",
    "    next(csvreader) # skup header\n",
    "    # insert into tables\n",
    "    for line in csvreader:\n",
    "        query = \"INSERT INTO session_item (artist, song, length, sessionid, iteminsession)\"\n",
    "        query = query + \"VALUES (%s,%s,%s,%s,%s)\"\n",
    "        session.execute(query, (line[0], line[10],float( line[5]),int(line[8]) , int(line[3])))"
   ]
  },
  {
   "cell_type": "markdown",
   "metadata": {
    "ExecuteTime": {
     "end_time": "2021-08-05T06:46:41.733287Z",
     "start_time": "2021-08-05T06:46:41.731071Z"
    }
   },
   "source": [
    "# Select Statement"
   ]
  },
  {
   "cell_type": "code",
   "execution_count": 44,
   "metadata": {
    "ExecuteTime": {
     "end_time": "2021-08-05T06:48:31.312829Z",
     "start_time": "2021-08-05T06:48:31.289748Z"
    }
   },
   "outputs": [
    {
     "name": "stdout",
     "output_type": "stream",
     "text": [
      "Row(sessionid=23, iteminsession=0, artist='Regina Spektor', length=191.08526611328125, song='24')\n"
     ]
    }
   ],
   "source": [
    "Select_statement = \" SELECT * FROM  session_item  limit 1\"\n",
    "\n",
    "try :\n",
    "    rows = session.execute(Select_statement)\n",
    "except Exception as e :\n",
    "    print(e)\n",
    "    \n",
    "for row in rows:\n",
    "    print(row)"
   ]
  },
  {
   "cell_type": "markdown",
   "metadata": {},
   "source": [
    "# Create Table user_session\n",
    "* Our Primary key will be ((sessionId, userId), itemInSession)), where (sessionId, userId) is the partition key and itemInSession is the clustering column.\n",
    "* Also, we are using the clause - WITH CLUSTERING ORDER BY (itemInSession ASC), to sort our data based on itemInSession\n",
    "* Columns we included in the table : sessionId, userId, artist, song, firstName, lastName, itemInSession"
   ]
  },
  {
   "cell_type": "code",
   "execution_count": 47,
   "metadata": {
    "ExecuteTime": {
     "end_time": "2021-08-05T07:06:19.076729Z",
     "start_time": "2021-08-05T07:06:17.563908Z"
    }
   },
   "outputs": [
    {
     "name": "stdout",
     "output_type": "stream",
     "text": [
      "Table created\n"
     ]
    }
   ],
   "source": [
    "b"
   ]
  },
  {
   "cell_type": "code",
   "execution_count": 48,
   "metadata": {
    "ExecuteTime": {
     "end_time": "2021-08-05T07:26:41.777755Z",
     "start_time": "2021-08-05T07:26:41.745235Z"
    }
   },
   "outputs": [
    {
     "name": "stdout",
     "output_type": "stream",
     "text": [
      "<cassandra.cluster.ResultSet object at 0x7f8aaf305a10>\n"
     ]
    }
   ],
   "source": [
    "print(session.execute(\"DESCRIBE TABLE user_session\"))"
   ]
  },
  {
   "cell_type": "code",
   "execution_count": 59,
   "metadata": {
    "ExecuteTime": {
     "end_time": "2021-08-05T07:49:31.907389Z",
     "start_time": "2021-08-05T07:49:21.559918Z"
    }
   },
   "outputs": [],
   "source": [
    "# using the event file \n",
    "file = \"event_datefile_new.csv\"\n",
    "\n",
    "# reading csv andn inserting rows  into cassandra table\n",
    "with open(file, encoding='utf8') as f :\n",
    "    csvreader = csv.reader(f)\n",
    "    next(csvreader) # skup header\n",
    "    # insert into tables\n",
    "    for line in csvreader:\n",
    "        query = \"INSERT INTO user_session ( sessionid,userid,artist,song,firstname,lastname,iteminsession )\"\n",
    "        query = query + \"VALUES (%s,%s,%s,%s,%s, %s, %s)\"\n",
    "        session.execute(query, (int(line[-3]),int( line[-1]), line[0], line[-2], line[1] , line[4], int(line[3])))"
   ]
  },
  {
   "cell_type": "markdown",
   "metadata": {
    "ExecuteTime": {
     "end_time": "2021-08-05T07:44:07.934485Z",
     "start_time": "2021-08-05T07:44:07.929024Z"
    }
   },
   "source": [
    "# Select Statement user_session tables "
   ]
  },
  {
   "cell_type": "code",
   "execution_count": 60,
   "metadata": {
    "ExecuteTime": {
     "end_time": "2021-08-05T07:50:36.112626Z",
     "start_time": "2021-08-05T07:50:36.098708Z"
    }
   },
   "outputs": [
    {
     "name": "stdout",
     "output_type": "stream",
     "text": [
      "Row(sessionid=1049, userid=73, iteminsession=0, artist='Manowar', firstname='Jacob', lastname='Klein', song='Shell Shock')\n"
     ]
    }
   ],
   "source": [
    "Select_statement = \" SELECT * FROM  user_session  limit 1\"\n",
    "\n",
    "try :\n",
    "    rows = session.execute(Select_statement)\n",
    "except Exception as e :\n",
    "    print(e)\n",
    "    \n",
    "for row in rows:\n",
    "    print(row)"
   ]
  },
  {
   "cell_type": "markdown",
   "metadata": {},
   "source": [
    "# Create Table user_song \n",
    "* Select query : SELECT song, firstName, lastName FROM user_song where song = 'All Hands Against His Own'\n",
    "* Our Primary key will be ((song), userId)), where song is the partition key and  userId is the clustering column.\n",
    "* Columns we included in the table : song, userId, firstName, lastName"
   ]
  },
  {
   "cell_type": "code",
   "execution_count": 63,
   "metadata": {
    "ExecuteTime": {
     "end_time": "2021-08-05T07:55:10.651901Z",
     "start_time": "2021-08-05T07:55:09.318886Z"
    }
   },
   "outputs": [
    {
     "name": "stdout",
     "output_type": "stream",
     "text": [
      "Table created\n"
     ]
    }
   ],
   "source": [
    "# Create table suser_session\n",
    "\n",
    "create_query1 = \"\"\"\n",
    "                CREATE TABLE IF NOT EXISTS user_song (\n",
    "                song text ,\n",
    "                userid int,\n",
    "                firstname text,\n",
    "                lastname text,\n",
    "                \n",
    "                PRIMARY KEY((song),userid))\n",
    "                \n",
    "                \n",
    "                \"\"\"\n",
    "\n",
    "try:\n",
    "    session.execute(create_query1)\n",
    "    print(\"Table created\")\n",
    "except Exception as e :\n",
    "    print(f\"Failde Create table {e}\")"
   ]
  },
  {
   "cell_type": "code",
   "execution_count": 65,
   "metadata": {
    "ExecuteTime": {
     "end_time": "2021-08-05T08:00:31.998650Z",
     "start_time": "2021-08-05T08:00:25.988404Z"
    }
   },
   "outputs": [],
   "source": [
    "# using the event file \n",
    "file = \"event_datefile_new.csv\"\n",
    "\n",
    "# reading csv andn inserting rows  into cassandra table\n",
    "with open(file, encoding='utf8') as f :\n",
    "    csvreader = csv.reader(f)\n",
    "    next(csvreader) # skup header\n",
    "    # insert into tables\n",
    "    for line in csvreader:\n",
    "        query = \"INSERT INTO user_song ( song,userid,firstname,lastname )\"\n",
    "        query = query + \"VALUES (%s,%s,%s,%s)\"\n",
    "        session.execute(query, ( line[-2], int(line[-1]) , line[1], line[4]))"
   ]
  },
  {
   "cell_type": "code",
   "execution_count": 66,
   "metadata": {
    "ExecuteTime": {
     "end_time": "2021-08-05T08:03:02.148011Z",
     "start_time": "2021-08-05T08:03:02.138915Z"
    }
   },
   "outputs": [
    {
     "name": "stdout",
     "output_type": "stream",
     "text": [
      "Row(song=\"Wonder What's Next\", userid=49, firstname='Chloe', lastname='Cuevas')\n"
     ]
    }
   ],
   "source": [
    "Select_statement = \" SELECT * FROM  user_song  limit 1\"\n",
    "\n",
    "try :\n",
    "    rows = session.execute(Select_statement)\n",
    "except Exception as e :\n",
    "    print(e)\n",
    "    \n",
    "for row in rows:\n",
    "    print(row)"
   ]
  },
  {
   "cell_type": "markdown",
   "metadata": {},
   "source": [
    "# Drop The table before closing"
   ]
  },
  {
   "cell_type": "code",
   "execution_count": 69,
   "metadata": {
    "ExecuteTime": {
     "end_time": "2021-08-05T08:12:30.302133Z",
     "start_time": "2021-08-05T08:12:30.287971Z"
    }
   },
   "outputs": [
    {
     "data": {
      "text/plain": [
       "['session_item', 'user_session', 'user_song']"
      ]
     },
     "execution_count": 69,
     "metadata": {},
     "output_type": "execute_result"
    }
   ],
   "source": [
    "tablesinfo = session.execute(\"SELECT * FROM system_schema.tables WHERE keyspace_name ='sparkify'\")\n",
    "tables_list = [ table[1]  for table in tablesinfo]\n",
    "tables_list"
   ]
  },
  {
   "cell_type": "code",
   "execution_count": 73,
   "metadata": {
    "ExecuteTime": {
     "end_time": "2021-08-05T08:17:29.855720Z",
     "start_time": "2021-08-05T08:17:29.845653Z"
    }
   },
   "outputs": [],
   "source": [
    "def delete_tables (tables):\n",
    "    for table in tables:\n",
    "        try :\n",
    "            sql = f\"DROP TABLE IF EXISTS sparkify.{table}\"\n",
    "            session.execute(sql)\n",
    "            print( f\"drop table {table} finish \"  )\n",
    "        except Exception as e :\n",
    "            print(e)"
   ]
  },
  {
   "cell_type": "code",
   "execution_count": 74,
   "metadata": {
    "ExecuteTime": {
     "end_time": "2021-08-05T08:17:45.306682Z",
     "start_time": "2021-08-05T08:17:32.427643Z"
    }
   },
   "outputs": [
    {
     "name": "stdout",
     "output_type": "stream",
     "text": [
      "drop table session_item finish \n",
      "drop table user_session finish \n",
      "drop table user_song finish \n"
     ]
    }
   ],
   "source": [
    "delete_tables(tables_list)\n"
   ]
  },
  {
   "cell_type": "markdown",
   "metadata": {
    "ExecuteTime": {
     "end_time": "2021-08-05T08:18:46.372589Z",
     "start_time": "2021-08-05T08:18:46.366488Z"
    }
   },
   "source": [
    "# Close The Session  and cluster connection"
   ]
  },
  {
   "cell_type": "code",
   "execution_count": 76,
   "metadata": {
    "ExecuteTime": {
     "end_time": "2021-08-05T08:19:10.501501Z",
     "start_time": "2021-08-05T08:19:10.490462Z"
    }
   },
   "outputs": [],
   "source": [
    "session.shutdown()\n",
    "cluster.shutdown()"
   ]
  },
  {
   "cell_type": "code",
   "execution_count": null,
   "metadata": {},
   "outputs": [],
   "source": []
  }
 ],
 "metadata": {
  "interpreter": {
   "hash": "7aafa6ab43e29e33b5ffa5bb6520d80b142221e0c9c7953e1200127ce1a113d6"
  },
  "kernelspec": {
   "display_name": "Python 3",
   "language": "python",
   "name": "python3"
  },
  "language_info": {
   "codemirror_mode": {
    "name": "ipython",
    "version": 3
   },
   "file_extension": ".py",
   "mimetype": "text/x-python",
   "name": "python",
   "nbconvert_exporter": "python",
   "pygments_lexer": "ipython3",
   "version": "3.7.7"
  },
  "toc": {
   "base_numbering": 1,
   "nav_menu": {},
   "number_sections": true,
   "sideBar": true,
   "skip_h1_title": false,
   "title_cell": "Table of Contents",
   "title_sidebar": "Contents",
   "toc_cell": false,
   "toc_position": {},
   "toc_section_display": true,
   "toc_window_display": false
  }
 },
 "nbformat": 4,
 "nbformat_minor": 2
}