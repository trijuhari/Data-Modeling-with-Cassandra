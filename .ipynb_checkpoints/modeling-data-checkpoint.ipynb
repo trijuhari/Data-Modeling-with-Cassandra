{
 "cells": [
  {
   "cell_type": "markdown",
   "metadata": {},
   "source": [
    "# Import Library "
   ]
  },
  {
   "cell_type": "code",
   "execution_count": 1,
   "metadata": {
    "ExecuteTime": {
     "end_time": "2021-08-05T04:26:05.980582Z",
     "start_time": "2021-08-05T04:26:05.563798Z"
    }
   },
   "outputs": [],
   "source": [
    "import  cassandra\n",
    "import pandas as pd\n",
    "import glob, csv, re, json, os\n",
    "import numpy as np "
   ]
  },
  {
   "cell_type": "markdown",
   "metadata": {},
   "source": [
    "# Creating List Path "
   ]
  },
  {
   "cell_type": "code",
   "execution_count": 2,
   "metadata": {
    "ExecuteTime": {
     "end_time": "2021-08-05T04:26:11.989876Z",
     "start_time": "2021-08-05T04:26:11.973980Z"
    }
   },
   "outputs": [
    {
     "name": "stdout",
     "output_type": "stream",
     "text": [
      "current working dir /home/hira/Data-Modeling-with-Cassandra\n"
     ]
    }
   ],
   "source": [
    "# Check current dir \n",
    "print(f\"current working dir {os.getcwd()}\")"
   ]
  },
  {
   "cell_type": "code",
   "execution_count": 3,
   "metadata": {
    "ExecuteTime": {
     "end_time": "2021-08-05T04:26:14.650205Z",
     "start_time": "2021-08-05T04:26:14.633845Z"
    }
   },
   "outputs": [
    {
     "data": {
      "text/plain": [
       "'/home/hira/Data-Modeling-with-Cassandra/event_data'"
      ]
     },
     "execution_count": 3,
     "metadata": {},
     "output_type": "execute_result"
    }
   ],
   "source": [
    "file_path = os.getcwd() + '/event_data'\n",
    "file_path"
   ]
  },
  {
   "cell_type": "code",
   "execution_count": 4,
   "metadata": {
    "ExecuteTime": {
     "end_time": "2021-08-05T04:26:16.347271Z",
     "start_time": "2021-08-05T04:26:16.343434Z"
    }
   },
   "outputs": [],
   "source": [
    "for root, dir, files in  os.walk(file_path):\n",
    "    filepath_list = glob.glob(os.path.join(root,\"*-events.csv\"))"
   ]
  },
  {
   "cell_type": "code",
   "execution_count": 5,
   "metadata": {
    "ExecuteTime": {
     "end_time": "2021-08-05T04:26:17.941831Z",
     "start_time": "2021-08-05T04:26:17.900098Z"
    }
   },
   "outputs": [
    {
     "name": "stdout",
     "output_type": "stream",
     "text": [
      "Total rows: 8056\n",
      "Sample data : \n",
      " [['Mudhoney', 'Logged In', 'Aleena', 'F', '10', 'Kirby', '231.57506', 'paid', 'Waterloo-Cedar Falls, IA', 'PUT', 'NextSong', '1.54102E+12', '637', 'Get Into Yours', '200', '1.54233E+12', '44'], ['Carpenters', 'Logged In', 'Aleena', 'F', '11', 'Kirby', '238.39302', 'paid', 'Waterloo-Cedar Falls, IA', 'PUT', 'NextSong', '1.54102E+12', '637', 'Yesterday Once More', '200', '1.54233E+12', '44'], ['', 'Logged In', 'Aleena', 'F', '12', 'Kirby', '', 'paid', 'Waterloo-Cedar Falls, IA', 'GET', 'Home', '1.54102E+12', '637', '', '200', '1.54233E+12', '44'], ['Kings Of Leon', 'Logged In', 'Aleena', 'F', '13', 'Kirby', '185.28608', 'paid', 'Waterloo-Cedar Falls, IA', 'PUT', 'NextSong', '1.54102E+12', '637', 'Taper Jean Girl', '200', '1.54233E+12', '44'], ['The Bloody Beetroots', 'Logged In', 'Aleena', 'F', '14', 'Kirby', '201.97832', 'paid', 'Waterloo-Cedar Falls, IA', 'PUT', 'NextSong', '1.54102E+12', '637', 'Warp 1.9 (feat. Steve Aoki)', '200', '1.54233E+12', '44']]\n"
     ]
    }
   ],
   "source": [
    "# initiating empty list  rows that will be generated  data \n",
    "\n",
    "full_data_rows = []\n",
    "\n",
    "# for every  filepath in the file of list\n",
    "for file in filepath_list:\n",
    "    # reading csv \n",
    "    with open(file, 'r', encoding= 'utf8', newline ='')  as  csvfile:\n",
    "         csvreader = csv.reader(csvfile)\n",
    "         next(csvreader)\n",
    "         \n",
    "         # extracting each data row one by one and append it\n",
    "         for line in csvreader:\n",
    "             full_data_rows.append(line)\n",
    "print(f\"Total rows: {len(full_data_rows)}\")\n",
    "print(f\"Sample data : \\n {full_data_rows[:5]}\")\n"
   ]
  },
  {
   "cell_type": "code",
   "execution_count": 6,
   "metadata": {
    "ExecuteTime": {
     "end_time": "2021-08-05T04:26:22.424759Z",
     "start_time": "2021-08-05T04:26:22.414225Z"
    }
   },
   "outputs": [],
   "source": [
    "    \"\"\"\n",
    "    creating a smaller event data csv file  called event_datafile_full csv that will be\n",
    "    inser into apache cassandra   \n",
    "    \"\"\"\n",
    "    \n",
    "csv.register_dialect('myDialect', quoting = csv.QUOTE_ALL,\\\n",
    "                     skipinitialspace = True)"
   ]
  },
  {
   "cell_type": "code",
   "execution_count": null,
   "metadata": {},
   "outputs": [],
   "source": [
    " with open('event_datefile_new.csv', 'w', encoding='utf8'\\\n",
    "     , newline='') as f :\n",
    "        writer = csv.writer(f, dialect= 'myDialect')\n",
    "        \n",
    "     "
   ]
  },
  {
   "cell_type": "code",
   "execution_count": null,
   "metadata": {},
   "outputs": [],
   "source": []
  },
  {
   "cell_type": "code",
   "execution_count": null,
   "metadata": {},
   "outputs": [],
   "source": []
  }
 ],
 "metadata": {
  "interpreter": {
   "hash": "7aafa6ab43e29e33b5ffa5bb6520d80b142221e0c9c7953e1200127ce1a113d6"
  },
  "kernelspec": {
   "display_name": "Python 3",
   "language": "python",
   "name": "python3"
  },
  "language_info": {
   "codemirror_mode": {
    "name": "ipython",
    "version": 3
   },
   "file_extension": ".py",
   "mimetype": "text/x-python",
   "name": "python",
   "nbconvert_exporter": "python",
   "pygments_lexer": "ipython3",
   "version": "3.7.7"
  },
  "toc": {
   "base_numbering": 1,
   "nav_menu": {},
   "number_sections": true,
   "sideBar": true,
   "skip_h1_title": false,
   "title_cell": "Table of Contents",
   "title_sidebar": "Contents",
   "toc_cell": false,
   "toc_position": {},
   "toc_section_display": true,
   "toc_window_display": false
  }
 },
 "nbformat": 4,
 "nbformat_minor": 2
}
